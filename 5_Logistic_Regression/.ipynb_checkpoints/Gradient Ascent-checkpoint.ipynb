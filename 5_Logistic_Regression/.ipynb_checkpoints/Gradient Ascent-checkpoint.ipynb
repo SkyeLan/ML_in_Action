{
 "cells": [
  {
   "cell_type": "markdown",
   "metadata": {},
   "source": [
    "**梯度上升伪代码：**  \n",
    "每个回归系数初始化为1  \n",
    "重复R次：  \n",
    "&ensp;&ensp;&ensp;&ensp;计算整个数据集的梯度  \n",
    "&ensp;&ensp;&ensp;&ensp;使用 alpha\\*gradient 更新回归系数的向量  \n",
    "返回回归系数"
   ]
  },
  {
   "cell_type": "code",
   "execution_count": 2,
   "metadata": {},
   "outputs": [],
   "source": [
    "import numpy as np"
   ]
  },
  {
   "cell_type": "markdown",
   "metadata": {},
   "source": [
    "## 读入数据"
   ]
  },
  {
   "cell_type": "code",
   "execution_count": null,
   "metadata": {},
   "outputs": [],
   "source": [
    "def loadDataSet():\n",
    "    dataMat = []\n",
    "    labelMat = []\n",
    "    fr = open('testSet.txt')\n",
    "    for line in fr.readlines():\n",
    "        lineArr = line.strip().split()\n",
    "        dataMat.append([1.0, float(lineArr[0]), float(lineArr[1])])\n",
    "        labelMat.append(int(lineArr[2]))\n",
    "    return dataMat, labelMat"
   ]
  },
  {
   "cell_type": "markdown",
   "metadata": {},
   "source": [
    "## Logistic 回归梯度上升优化算法"
   ]
  },
  {
   "cell_type": "code",
   "execution_count": 3,
   "metadata": {},
   "outputs": [],
   "source": [
    "def sigmoid(inX):\n",
    "    return 1.0/(1+exp(-inX))\n",
    "\n",
    "def gradAscent(dataMatIn, classLabels):\n",
    "    # 将数据转换成 numpy 矩阵\n",
    "    dataMatrix = mat(dataMatIn)    # 100*3\n",
    "    labelMat = mat(classLabels).transpose()    # 1*100 --> 100*1\n",
    "    m, n = shape(dataMatrix)\n",
    "    alpha = 0.001    # 步长\n",
    "    maxCycles = 500    # 迭代次数\n",
    "    weights = np.ones((n, 1))\n",
    "    for k in range(maxCycles):\n",
    "        h = sigmoid(dataMatrix * weights)    # (100*3)*(3*1) --> 100*1\n",
    "        error = (labelMat - h)    # 100*1\n",
    "        weights = weights + alpha * dataMatrix.transpose() * error\n",
    "    return weights"
   ]
  },
  {
   "cell_type": "code",
   "execution_count": null,
   "metadata": {},
   "outputs": [],
   "source": []
  }
 ],
 "metadata": {
  "kernelspec": {
   "display_name": "Python 3",
   "language": "python",
   "name": "python3"
  },
  "language_info": {
   "codemirror_mode": {
    "name": "ipython",
    "version": 3
   },
   "file_extension": ".py",
   "mimetype": "text/x-python",
   "name": "python",
   "nbconvert_exporter": "python",
   "pygments_lexer": "ipython3",
   "version": "3.6.5"
  }
 },
 "nbformat": 4,
 "nbformat_minor": 2
}
