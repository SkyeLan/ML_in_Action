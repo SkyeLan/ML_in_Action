{
 "cells": [
  {
   "cell_type": "code",
   "execution_count": 1,
   "metadata": {},
   "outputs": [],
   "source": [
    "%matplotlib inline\n",
    "import numpy as np\n",
    "import matplotlib.pyplot as plt"
   ]
  },
  {
   "cell_type": "markdown",
   "metadata": {},
   "source": [
    "## K-均值聚类"
   ]
  },
  {
   "cell_type": "markdown",
   "metadata": {},
   "source": [
    "K-均值算法伪代码：  \n",
    "创建k个点作为起始质心（通常随机选择）  \n",
    "当任意一个点的簇分配结果发生改变时：  \n",
    "&ensp;&ensp;&ensp;&ensp;对数据集中的每个数据点：  \n",
    "&ensp;&ensp;&ensp;&ensp;&ensp;&ensp;&ensp;&ensp;对每个质心：   \n",
    "&ensp;&ensp;&ensp;&ensp;&ensp;&ensp;&ensp;&ensp;&ensp;&ensp;&ensp;&ensp;计算质心与数据点之间的距离  \n",
    "&ensp;&ensp;&ensp;&ensp;&ensp;&ensp;&ensp;&ensp;将数据点分配到距其最近的簇  \n",
    "&ensp;&ensp;&ensp;&ensp;对每一个簇，计算簇中所有点的均值并将均值作为质心"
   ]
  },
  {
   "cell_type": "markdown",
   "metadata": {},
   "source": [
    "## 支持函数"
   ]
  },
  {
   "cell_type": "code",
   "execution_count": 2,
   "metadata": {},
   "outputs": [],
   "source": [
    "def loadDataSet(fileName):\n",
    "    dataMat = []\n",
    "    fr = open(fileName)\n",
    "    for line in fr.readlines():\n",
    "        curLine = line.strip().split('\\t')\n",
    "        # 将每行读成浮点数\n",
    "        fltLine = list(map(float, curLine))\n",
    "        dataMat.append(fltLine)\n",
    "    return dataMat"
   ]
  },
  {
   "cell_type": "markdown",
   "metadata": {},
   "source": [
    "### 计算两个向量的欧式距离"
   ]
  },
  {
   "cell_type": "code",
   "execution_count": 3,
   "metadata": {},
   "outputs": [],
   "source": [
    "def distEclud(vecA, vecB):\n",
    "    return np.sqrt(np.sum(np.power(vecA - vecB, 2)))"
   ]
  },
  {
   "cell_type": "markdown",
   "metadata": {},
   "source": [
    "### 为给定数据集构建包含k个随即质心的集合"
   ]
  },
  {
   "cell_type": "code",
   "execution_count": 4,
   "metadata": {},
   "outputs": [],
   "source": [
    "def randCent(dataSet, k):\n",
    "    n = np.shape(dataSet)[1]\n",
    "    centroids = np.mat(np.zeros((k, n)))\n",
    "    for j in range(n):\n",
    "        minJ = min(dataSet[:, j])\n",
    "        rangeJ = float(max(dataSet[:, j]) - minJ)\n",
    "        centroids[:, j] = minJ + rangeJ * np.random.rand(k, 1)\n",
    "    return centroids"
   ]
  },
  {
   "cell_type": "markdown",
   "metadata": {},
   "source": [
    "## k-均值聚类算法"
   ]
  },
  {
   "cell_type": "code",
   "execution_count": 5,
   "metadata": {},
   "outputs": [],
   "source": [
    "def kMeans(dataSet, k, distMeas=distEclud, createCent=randCent):\n",
    "    m = np.shape(dataSet)[0]\n",
    "    clusterAssment = np.mat(np.zeros((m, 2)))    # 一列记索引，一列记当前点到质心的距离\n",
    "    centroids = createCent(dataSet, k)\n",
    "    clusterChanged = True\n",
    "    while clusterChanged:\n",
    "        clusterChanged = False\n",
    "        for i in range(m):\n",
    "            minDist = np.inf\n",
    "            minIndex = -1\n",
    "            # 寻找最近的质心\n",
    "            for j in range(k):\n",
    "                distJI = distMeas(centroids[j, :], dataSet[i, :])\n",
    "                if distJI < minDist:\n",
    "                    minDist = distJI\n",
    "                    minIndex = j\n",
    "            if clusterAssment[i, 0] != minIndex:    # 任一点簇发生改变，则改变标志\n",
    "                clusterChanged = True\n",
    "            clusterAssment[i, :] = minIndex, minDist ** 2\n",
    "        print(centroids)\n",
    "        # 更新质心位置\n",
    "        for cent in range(k):\n",
    "            ptsInClust = dataSet[np.nonzero(clusterAssment[:, 0].A == cent)[0]]\n",
    "            centroids[cent, :] = np.mean(ptsInClust, axis = 0)\n",
    "    return centroids, clusterAssment"
   ]
  },
  {
   "cell_type": "code",
   "execution_count": 6,
   "metadata": {},
   "outputs": [
    {
     "name": "stdout",
     "output_type": "stream",
     "text": [
      "[[ 4.5960757  -1.25450135]\n",
      " [ 2.59294474 -4.17695463]\n",
      " [ 3.06899747 -3.7928267 ]\n",
      " [-0.87401073 -2.31617092]]\n",
      "[[ 2.95373358  2.32801413]\n",
      " [ 1.4019435  -3.599936  ]\n",
      " [ 2.81174242 -3.112288  ]\n",
      " [-2.75532045 -0.16621226]]\n",
      "[[ 2.46383071  3.1198451 ]\n",
      " [ 0.2408085  -3.19631033]\n",
      " [ 3.25624481 -2.728045  ]\n",
      " [-3.06957486  0.04470084]]\n",
      "[[ 2.27289195  3.17080855]\n",
      " [-1.28978778 -3.25268144]\n",
      " [ 3.17437012 -2.75441347]\n",
      " [-3.14527756  0.33392094]]\n",
      "[[ 2.27289195  3.17080855]\n",
      " [-2.9085278  -3.11811235]\n",
      " [ 3.03713839 -2.62802833]\n",
      " [-2.73953075  2.21265325]]\n",
      "[[ 2.6265299   3.10868015]\n",
      " [-3.38237045 -2.9473363 ]\n",
      " [ 2.80293085 -2.7315146 ]\n",
      " [-2.46154315  2.78737555]]\n"
     ]
    }
   ],
   "source": [
    "datMat = np.mat(loadDataSet('testSet.txt'))\n",
    "myCentroids, clustAssing = kMeans(datMat, 4)"
   ]
  },
  {
   "cell_type": "markdown",
   "metadata": {},
   "source": [
    "## 二分K-均值算法  \n",
    "二分K-均值算法伪代码：  \n",
    "将所有点看成一个簇  \n",
    "当簇数目小于k时：  \n",
    "&ensp;&ensp;&ensp;&ensp;对于每一个簇：  \n",
    "&ensp;&ensp;&ensp;&ensp;&ensp;&ensp;&ensp;&ensp;计算总误差   \n",
    "&ensp;&ensp;&ensp;&ensp;&ensp;&ensp;&ensp;&ensp;在给定的簇上面进行K-均值聚类（k=2）  \n",
    "&ensp;&ensp;&ensp;&ensp;&ensp;&ensp;&ensp;&ensp;计算将该簇一分为二之后的总误差  \n",
    "&ensp;&ensp;&ensp;&ensp;选择使得误差最小的那个簇进行划分操作"
   ]
  },
  {
   "cell_type": "code",
   "execution_count": 7,
   "metadata": {},
   "outputs": [],
   "source": [
    "def biKmeans(dataSet, k, distMeas=distEclud):\n",
    "    m = np.shape(dataSet)[0]\n",
    "    clusterAssment = np.mat(np.zeros((m, 2)))\n",
    "    # 创建一个初试簇\n",
    "    centroid0 = np.mean(dataSet, axis=0).tolist()[0]\n",
    "    centList = [centroid0]\n",
    "    for j in range(m):\n",
    "        clusterAssment[j, 1] = distMeas(np.mat(centroid0), dataSet[j, :]) ** 2\n",
    "    while len(centList) < k:\n",
    "        lowestSSE = np.inf\n",
    "        for i in range(len(centList)):\n",
    "            # 尝试划分每一簇\n",
    "            ptsInCurrCluster = dataSet[np.nonzero(clusterAssment[:, 0].A == i)[0], :]\n",
    "            centroidMat, splitClustAss = kMeans(ptsInCurrCluster, 2, distMeas)\n",
    "            sseSplit = sum(splitClustAss[:, 1])\n",
    "            sseNotSplit = sum(clusterAssment[np.nonzero(clusterAssment[:, 0].A != i)[0], 1])\n",
    "            print('sseSplit, and notSplit:', sseSplit, sseNotSplit)\n",
    "            if (sseSplit + sseNotSplit) < lowestSSE:\n",
    "                bestCentToSplit = i\n",
    "                bestNewCents = centroidMat\n",
    "                bestClustAss = splitClustAss.copy()\n",
    "                lowestSSE = sseSplit + sseNotSplit\n",
    "        # 更新簇的分配结果\n",
    "        bestClustAss[np.nonzero(bestClustAss[:, 0].A == 1)[0], 0] = len(centList)\n",
    "        bestClustAss[np.nonzero(bestClustAss[:, 0].A == 0)[0], 0] = bestCentToSplit\n",
    "        print('the bestCentToSplit is:', bestCentToSplit)\n",
    "        print('the len of bestClustAss is:',len(bestClustAss))\n",
    "        centList[bestCentToSplit] = bestNewCents[0, :].tolist()[0]\n",
    "        centList.append(bestNewCents[1, :].tolist()[0])\n",
    "        clusterAssment[np.nonzero(clusterAssment[:, 0].A == bestCentToSplit)[0], :] = bestClustAss\n",
    "    return np.mat(centList), clusterAssment"
   ]
  },
  {
   "cell_type": "markdown",
   "metadata": {},
   "source": [
    "### 画图代码"
   ]
  },
  {
   "cell_type": "code",
   "execution_count": 8,
   "metadata": {},
   "outputs": [],
   "source": [
    "def showPlt(datMat, alg=kMeans, numClust=4):\n",
    "    myCentroids, clustAssing = alg(datMat, numClust)\n",
    "    fig = plt.figure()\n",
    "    rect=[0.1,0.1,0.8,0.8]\n",
    "    scatterMarkers=['s', 'o', '^', '8', 'p', \\\n",
    "                    'd', 'v', 'h', '>', '<']\n",
    "    axprops = dict(xticks=[], yticks=[])\n",
    "    ax0 = fig.add_axes(rect, label='ax0', **axprops)\n",
    "    ax1 = fig.add_axes(rect, label='ax1', frameon=False)\n",
    "    for i in range(numClust):\n",
    "        ptsInCurrCluster = datMat[np.nonzero(clustAssing[:,0].A==i)[0],:]\n",
    "        markerStyle = scatterMarkers[i % len(scatterMarkers)]\n",
    "        ax1.scatter(ptsInCurrCluster[:,0].flatten().A[0], ptsInCurrCluster[:,1].flatten().A[0], marker=markerStyle, s=90)\n",
    "    ax1.scatter(myCentroids[:,0].flatten().A[0], myCentroids[:,1].flatten().A[0], marker='+', s=300)\n",
    "    plt.show()"
   ]
  },
  {
   "cell_type": "code",
   "execution_count": 9,
   "metadata": {},
   "outputs": [
    {
     "name": "stdout",
     "output_type": "stream",
     "text": [
      "[[-4.67249092 -2.43302642]\n",
      " [ 2.00052031 -3.06564073]]\n",
      "[[-2.8305667   2.37007604]\n",
      " [ 1.50377484  0.5137313 ]]\n",
      "[[-2.94737575  3.3263781 ]\n",
      " [ 1.23710375  0.17480612]]\n",
      "sseSplit, and notSplit: [[570.72275742]] 0\n",
      "the bestCentToSplit is: 0\n",
      "the len of bestClustAss is: 60\n",
      "[[-2.56970634  2.49441399]\n",
      " [-1.83222384  4.14236421]]\n",
      "[[-3.10860164  2.745944  ]\n",
      " [-2.75032189  4.03579756]]\n",
      "[[-2.99313411  2.50954333]\n",
      " [-2.90993709  3.99469745]]\n",
      "[[-2.7597694  2.5697174]\n",
      " [-3.1349821  4.0830388]]\n",
      "[[-2.698236    2.64378055]\n",
      " [-3.25187989  4.160664  ]]\n",
      "[[-2.64953833  2.7191465 ]\n",
      " [-3.39413187  4.2372255 ]]\n",
      "[[-2.58990523  2.82015346]\n",
      " [-3.61124957  4.26650957]]\n",
      "[[-2.56458833  2.9616746 ]\n",
      " [-4.095738    4.4204886 ]]\n",
      "sseSplit, and notSplit: [[21.29085968]] [[532.65980679]]\n",
      "[[-0.96543512 -1.83079376]\n",
      " [ 0.71124678  3.2053098 ]]\n",
      "[[-0.45965615 -2.7782156 ]\n",
      " [ 2.93386365  3.12782785]]\n",
      "sseSplit, and notSplit: [[68.68654813]] [[38.06295064]]\n",
      "the bestCentToSplit is: 1\n",
      "the len of bestClustAss is: 40\n"
     ]
    }
   ],
   "source": [
    "datMat3 = np.mat(loadDataSet('testSet2.txt'))\n",
    "centList, myNewAssments = biKmeans(datMat3, 3)"
   ]
  },
  {
   "cell_type": "code",
   "execution_count": 10,
   "metadata": {},
   "outputs": [
    {
     "data": {
      "text/plain": [
       "matrix([[-2.94737575,  3.3263781 ],\n",
       "        [-0.45965615, -2.7782156 ],\n",
       "        [ 2.93386365,  3.12782785]])"
      ]
     },
     "execution_count": 10,
     "metadata": {},
     "output_type": "execute_result"
    }
   ],
   "source": [
    "centList"
   ]
  },
  {
   "cell_type": "code",
   "execution_count": 11,
   "metadata": {},
   "outputs": [
    {
     "name": "stdout",
     "output_type": "stream",
     "text": [
      "[[-2.53073979  3.76993411]\n",
      " [ 3.905593   -2.37087632]]\n",
      "[[-1.21519894  3.14882587]\n",
      " [ 1.05082146 -0.97295075]]\n",
      "[[-0.63713035  3.42180353]\n",
      " [ 0.46919488 -1.64698127]]\n",
      "[[-0.06953469  3.29844341]\n",
      " [-0.32150057 -2.62473743]]\n",
      "[[-0.00675605  3.22710297]\n",
      " [-0.45965615 -2.7782156 ]]\n",
      "sseSplit, and notSplit: [[453.03348958]] 0\n",
      "the bestCentToSplit is: 0\n",
      "the len of bestClustAss is: 60\n",
      "[[-3.89415753  4.42606198]\n",
      " [-2.53599767  1.68451379]]\n",
      "[[-3.39413187  4.2372255 ]\n",
      " [ 0.84008791  2.97457234]]\n",
      "[[-3.06779095  3.33769884]\n",
      " [ 2.76275171  3.12704005]]\n",
      "[[-2.94737575  3.3263781 ]\n",
      " [ 2.93386365  3.12782785]]\n",
      "sseSplit, and notSplit: [[77.59224932]] [[29.15724944]]\n",
      "[[-0.31244531 -2.89816065]\n",
      " [-1.01536813 -3.51373167]]\n",
      "[[-0.15208043 -2.61359014]\n",
      " [-1.17733283 -3.16234167]]\n",
      "[[ 0.0335725  -2.7077875 ]\n",
      " [-1.19949912 -2.88385775]]\n",
      "[[ 0.18969282 -3.025871  ]\n",
      " [-1.25330489 -2.47552567]]\n",
      "[[ 0.19848727 -3.24320436]\n",
      " [-1.26405367 -2.209896  ]]\n",
      "[[ 0.2642961 -3.3057243]\n",
      " [-1.1836084 -2.2507069]]\n",
      "[[ 0.35496167 -3.36033556]\n",
      " [-1.12616164 -2.30193564]]\n",
      "sseSplit, and notSplit: [[12.75326314]] [[423.87624014]]\n",
      "the bestCentToSplit is: 0\n",
      "the len of bestClustAss is: 40\n"
     ]
    },
    {
     "data": {
      "image/png": "[encoded data removed]",
      "text/plain": [
       "<Figure size 432x288 with 2 Axes>"
      ]
     },
     "metadata": {},
     "output_type": "display_data"
    }
   ],
   "source": [
    "showPlt(datMat3, alg=biKmeans, numClust=3)"
   ]
  },
  {
   "cell_type": "code",
   "execution_count": null,
   "metadata": {},
   "outputs": [],
   "source": []
  }
 ],
 "metadata": {
  "kernelspec": {
   "display_name": "Python 3",
   "language": "python",
   "name": "python3"
  },
  "language_info": {
   "codemirror_mode": {
    "name": "ipython",
    "version": 3
   },
   "file_extension": ".py",
   "mimetype": "text/x-python",
   "name": "python",
   "nbconvert_exporter": "python",
   "pygments_lexer": "ipython3",
   "version": "3.6.5"
  }
 },
 "nbformat": 4,
 "nbformat_minor": 2
}
