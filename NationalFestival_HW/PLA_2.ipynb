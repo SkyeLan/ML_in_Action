{
 "cells": [
  {
   "cell_type": "code",
   "execution_count": 1,
   "metadata": {},
   "outputs": [],
   "source": [
    "%matplotlib inline"
   ]
  },
  {
   "cell_type": "code",
   "execution_count": 2,
   "metadata": {},
   "outputs": [],
   "source": [
    "import numpy as np\n",
    "import matplotlib.pyplot as plt\n",
    "import pandas as pd"
   ]
  },
  {
   "cell_type": "markdown",
   "metadata": {},
   "source": [
    "## 导入数据"
   ]
  },
  {
   "cell_type": "code",
   "execution_count": 3,
   "metadata": {},
   "outputs": [],
   "source": [
    "def readFile(filename):\n",
    "    datas = pd.read_csv(filename, header=None)\n",
    "    returnMat = np.zeros((len(datas), 3))\n",
    "    datas = datas.values\n",
    "    labelVector = []\n",
    "    index = 0\n",
    "    for data in datas:\n",
    "        returnMat[index, 0:2] = data[0: 2]\n",
    "        returnMat[index, -1] = 1\n",
    "        labelVector.append(int(data[-1]))\n",
    "        index += 1\n",
    "    return returnMat, labelVector"
   ]
  },
  {
   "cell_type": "markdown",
   "metadata": {},
   "source": [
    "## 数据可视化"
   ]
  },
  {
   "cell_type": "code",
   "execution_count": 4,
   "metadata": {},
   "outputs": [],
   "source": [
    "def drawn(dataMat, labels, W):\n",
    "    for i in range(len(labels)):\n",
    "        if labels[i] == 1:\n",
    "            plt.scatter(dataMat[i,0], dataMat[i,1], c = 'red')\n",
    "        else:\n",
    "            plt.scatter(dataMat[i,0], dataMat[i,1], c = 'green')\n",
    "    x0 = np.arange(4.5, 8.0, 0.06)\n",
    "    x1 = (-W[0]*x0-W[2])/W[1]\n",
    "    plt.plot(x0, x1)\n",
    "    plt.grid(True)#显示网格线\n",
    "    plt.show()"
   ]
  },
  {
   "cell_type": "markdown",
   "metadata": {},
   "source": [
    "## 计算sign标签值"
   ]
  },
  {
   "cell_type": "code",
   "execution_count": 5,
   "metadata": {},
   "outputs": [],
   "source": [
    "def sign(W,dataMat):\n",
    "    index = 0\n",
    "    labelSet = []\n",
    "    for d in dataMat:\n",
    "        result = W.dot(d.T)\n",
    "        if result > 0:\n",
    "            labelSet.append(1)\n",
    "        else:\n",
    "            labelSet.append(-1)\n",
    "        index += 1\n",
    "    return labelSet"
   ]
  },
  {
   "cell_type": "code",
   "execution_count": 6,
   "metadata": {},
   "outputs": [],
   "source": [
    "def verify(signResult, labels):\n",
    "    error = 0\n",
    "    for i in range(len(signResult)):\n",
    "        if signResult[i] != labels[i]:\n",
    "            error += 1\n",
    "    return error"
   ]
  },
  {
   "cell_type": "code",
   "execution_count": 7,
   "metadata": {},
   "outputs": [
    {
     "data": {
      "image/png": "[encoded data removed]",
      "text/plain": [
       "<Figure size 432x288 with 1 Axes>"
      ]
     },
     "metadata": {},
     "output_type": "display_data"
    }
   ],
   "source": [
    "dataMat, labels = readFile('F:/workspace-Jupyter/NationalFestival_HW/data2.csv')\n",
    "W = np.array([1, 1, 1])\n",
    "drawn(dataMat[:,0:2], labels, W)\n",
    "signResult = sign(W,dataMat)\n",
    "oldW = W\n",
    "oldError = verify(signResult, labels)"
   ]
  },
  {
   "cell_type": "code",
   "execution_count": 8,
   "metadata": {},
   "outputs": [
    {
     "name": "stdout",
     "output_type": "stream",
     "text": [
      "W:  [-123.9  221.  -308. ]\n",
      "error:  6\n"
     ]
    },
    {
     "data": {
      "image/png": "[encoded data removed]",
      "text/plain": [
       "<Figure size 432x288 with 1 Axes>"
      ]
     },
     "metadata": {},
     "output_type": "display_data"
    }
   ],
   "source": [
    "generation = 8000    # 设置更新次数上限\n",
    "count = 0\n",
    "while count < generation:\n",
    "    for s in range(len(signResult)):\n",
    "        if signResult[s] != labels[s]:\n",
    "            # 更新权重W\n",
    "            W = W + labels[s]*dataMat[s, :]\n",
    "            # 重新计算label\n",
    "            signResult = sign(W,dataMat)\n",
    "            error = verify(signResult, labels)\n",
    "            if error <= oldError:\n",
    "                oldW = W    # 保留结果最好的权重\n",
    "                oldError = error\n",
    "            count += 1\n",
    "print('W: ',oldW)\n",
    "print('error: ',oldError)\n",
    "drawn(dataMat[:,0:2], labels,oldW)"
   ]
  },
  {
   "cell_type": "code",
   "execution_count": null,
   "metadata": {},
   "outputs": [],
   "source": []
  }
 ],
 "metadata": {
  "kernelspec": {
   "display_name": "Python 3",
   "language": "python",
   "name": "python3"
  },
  "language_info": {
   "codemirror_mode": {
    "name": "ipython",
    "version": 3
   },
   "file_extension": ".py",
   "mimetype": "text/x-python",
   "name": "python",
   "nbconvert_exporter": "python",
   "pygments_lexer": "ipython3",
   "version": "3.6.5"
  }
 },
 "nbformat": 4,
 "nbformat_minor": 2
}
