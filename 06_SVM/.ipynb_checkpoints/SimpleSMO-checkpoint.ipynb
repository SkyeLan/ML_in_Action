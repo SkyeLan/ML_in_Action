{
 "cells": [
  {
   "cell_type": "markdown",
   "metadata": {},
   "source": [
    "找到具有最小间隔的数据点，再对该间隔最大化：\n",
    "$$\n",
    "\\mathop{\\arg\\max}_{(w,b)}\\{\\min_n \\ label·\\frac{(w^Tx+b)}{||w||}\\}\n",
    "$$\n",
    "转化后的优目标函数：\n",
    "$$\n",
    "\\begin{align}\n",
    "\\max_\\alpha[\\sum_{i=1}^m\\alpha-\\frac{1}{2}\\sum_{i,j=1}^{m}&label^{(i)}·label^{(j)}·\\alpha_i·\\alpha_j·<x^{(i)},x^{(j)}>] \\\\\\\\\n",
    "st. \\ &\\alpha\\geq0\\\\\n",
    "&\\sum_{i-1}^m\\alpha_i·label^{(i)}=0\n",
    "\\end{align}\n",
    "$$\n",
    "引入松弛变量后约束条件变为：\n",
    "$$\n",
    "\\begin{align}\n",
    "st. \\ &C\\geq\\alpha\\geq0\\\\&\\sum_{i-1}^m\\alpha_i·label^{(i)}=0\n",
    "\\end{align}\n",
    "$$\n"
   ]
  },
  {
   "cell_type": "markdown",
   "metadata": {},
   "source": [
    "**SMO：序列最小优化（Sequential Minimal Optimization）**\n",
    "将大优化问题分解为多个小优化问题  \n",
    "SMO目标：求出一系列$\\alpha$和$b$，然后可以容易计算出$w$  \n",
    "工作原理：  \n",
    "1.每次循环选择两个$\\alpha$进行优化处理  \n",
    "2.一旦找到一对“合适”的$\\alpha$，就一个增大一个减小  "
   ]
  },
  {
   "cell_type": "code",
   "execution_count": 5,
   "metadata": {},
   "outputs": [],
   "source": [
    "import numpy as np"
   ]
  },
  {
   "cell_type": "code",
   "execution_count": 3,
   "metadata": {},
   "outputs": [],
   "source": [
    "# 读取数据，获得特征与标签\n",
    "def loadDataSet(fileName):\n",
    "    dataMat = []\n",
    "    labelMat = []\n",
    "    fr = open(fileName)\n",
    "    for line in fr.readlines():\n",
    "        lineArr = line.strip().split('\\t')\n",
    "        dataMat.append([float(lineArr[0]), float(lineArr[1])])\n",
    "        labelMat.append(float(lineArr[2]))\n",
    "    return dataMat, labelMat\n",
    "\n",
    "# i是alpha下标，m是alpha数目\n",
    "def selectJrand(i, m):\n",
    "    j = i;\n",
    "    while j == i:\n",
    "        j = int(np.random.uniform(0, m))\n",
    "    return j\n",
    "\n",
    "# 调整大于H或小于L的alpha值\n",
    "def clipAlpha(aj, H, L):\n",
    "    if aj > H:\n",
    "        aj = H\n",
    "    if L > aj:\n",
    "        aj = L\n",
    "    return aj"
   ]
  },
  {
   "cell_type": "markdown",
   "metadata": {},
   "source": [
    "## 简化版SMO算法\n",
    "**伪代码**:  \n",
    "创建一个alpha向量并将其初始化为0向量  \n",
    "当迭代次数小于最大迭代次数时（外循环）  \n",
    "&ensp;&ensp;&ensp;&ensp;对数据集中的每个数据向量（内循环）：  \n",
    "&ensp;&ensp;&ensp;&ensp;&ensp;&ensp;&ensp;&ensp;如果该数据向量可以被优化：  \n",
    "&ensp;&ensp;&ensp;&ensp;&ensp;&ensp;&ensp;&ensp;&ensp;&ensp;&ensp;&ensp;随机选择另外一个数据向量  \n",
    "&ensp;&ensp;&ensp;&ensp;&ensp;&ensp;&ensp;&ensp;&ensp;&ensp;&ensp;&ensp;同时优化这两个向量  \n",
    "&ensp;&ensp;&ensp;&ensp;&ensp;&ensp;&ensp;&ensp;&ensp;&ensp;&ensp;&ensp;如果两个向量都不能被优化，退出内循环  \n",
    "&ensp;&ensp;&ensp;&ensp;如果所有向量都没被优化，增加迭代数目，继续下一次循环"
   ]
  },
  {
   "cell_type": "code",
   "execution_count": 14,
   "metadata": {},
   "outputs": [],
   "source": [
    "def smoSimple(dataMatIn, classLabels, C, toler, maxIter):\n",
    "    dataMatrix = np.mat(dataMatIn)\n",
    "    labelMat = np.mat(classLabels).transpose()\n",
    "    b = 0\n",
    "    m,n = np.shape(dataMatrix)\n",
    "    alphas = np.mat(np.zeros((m, 1)))    # 初始化为0向量\n",
    "    iter = 0\n",
    "    # 当迭代次数小于最大迭代次数\n",
    "    while iter < maxIter:\n",
    "        alphaPairsChanged = 0\n",
    "        对数据集中的每个数据向量\n",
    "        for i in range(m):\n",
    "            fXi = float(np.multiply(alphas, labelMat).T * (dataMatrix * dataMatrix[i, :].T)) + b\n",
    "            Ei = fXi - float(labelMat[i])\n",
    "            # 如果alpha可以更改，进入优化过程\n",
    "            if((labelMat[i] * Ei < -toler) and (alphas[i] < C)) or ((labelMat[i] * Ei > toler) and (alphas[i] > 0)):\n",
    "                # 随机选择另外一个数据向量\n",
    "                j = selectJrand(i, m)\n",
    "                fXj = float(np.multiply(alphas, labelMat).T * (dataMatrix * dataMatrix[j, :].T)) + b\n",
    "                Ej = fXj - float(labelMat[j])\n",
    "                alphaIold = alphas[i].copy()\n",
    "                alphaJold = alphas[j].copy()\n",
    "                if labelMat[i] != labelMat[j]:\n",
    "                    L = max(0, alphas[j] - alphas[i])\n",
    "                    H = min(C, C + alphas[j] - alphas[i])\n",
    "                else:\n",
    "                    L = max(0, alphas[j] - alphas[i] - C)\n",
    "                    H = min(C, alphas[j] - alphas[i])\n",
    "                if L == H:\n",
    "                    print('L == H')\n",
    "                    continue\n",
    "                eta = 2.0 * dataMatrix[i, :] * dataMatrix[j, :].T - dataMatrix[i, :] * dataMatrix[i, :].T - dataMatrix[j, :] * dataMatrix[j, :].T\n",
    "                if eta >= 0:\n",
    "                    print('eta >= 0')\n",
    "                    continue\n",
    "                alphas[j] -= labelMat[j] * (Ei - Ej) / eta\n",
    "                alphas[j] = clipAlpha(alphas[j], H, L)\n",
    "                if abs(alphas[j] - alphaJold) < 0.00001:\n",
    "                    print('j not moving enough')\n",
    "                    continue\n",
    "                alphas[i] += labelMat[j] * labelMat[i] * (alphaJold - alphas[j])\n",
    "                b1 = b - Ei - labelMat[i] * (alphas[i] - alphaIold) * dataMatrix[i, :] * dataMatrix[i].T - labelMat[j] * (alphas[j] - alphaJold) * dataMatrix[i, :] * dataMatrix[j, :].T\n",
    "                b2 = b - Ej - labelMat[i] * (alphas[i] - alphaIold) * dataMatrix[i, :] * dataMatrix[j].T - labelMat[j] * (alphas[j] - alphaJold) * dataMatrix[j, :] * dataMatrix[j, :].T\n",
    "                if 0 < alphas[i] and C > alphas[i]:\n",
    "                    b = b1\n",
    "                elif 0 < alphas[j] and C > alphas[j]:\n",
    "                    b = b2\n",
    "                else:\n",
    "                    b = (b1 + b2)/2.0\n",
    "                alphaPairsChanged += 1\n",
    "                print('iter: %d  i: %d, pairs changed %d' % (iter, i, alphaPairsChanged))\n",
    "        if alphaPairsChanged ==0:\n",
    "            iter += 1\n",
    "        else:\n",
    "            iter = 0\n",
    "        print('iteration number: %d' % iter)\n",
    "    return b, alphas"
   ]
  },
  {
   "cell_type": "code",
   "execution_count": 9,
   "metadata": {},
   "outputs": [],
   "source": [
    "dataArr, labelArr = loadDataSet('testSet.txt')\n",
    "b, alphas = smoSimple(dataArr, labelArr, 0.6, 0.001, 40)"
   ]
  },
  {
   "cell_type": "code",
   "execution_count": 16,
   "metadata": {},
   "outputs": [
    {
     "data": {
      "text/plain": [
       "matrix([[-3.76965613]])"
      ]
     },
     "execution_count": 16,
     "metadata": {},
     "output_type": "execute_result"
    }
   ],
   "source": [
    "b"
   ]
  },
  {
   "cell_type": "code",
   "execution_count": 17,
   "metadata": {},
   "outputs": [
    {
     "data": {
      "text/plain": [
       "matrix([[0.10763198, 0.24825279, 0.01123506, 0.34464971]])"
      ]
     },
     "execution_count": 17,
     "metadata": {},
     "output_type": "execute_result"
    }
   ],
   "source": [
    "alphas[alphas>0]"
   ]
  },
  {
   "cell_type": "code",
   "execution_count": null,
   "metadata": {},
   "outputs": [],
   "source": []
  }
 ],
 "metadata": {
  "kernelspec": {
   "display_name": "Python 3",
   "language": "python",
   "name": "python3"
  },
  "language_info": {
   "codemirror_mode": {
    "name": "ipython",
    "version": 3
   },
   "file_extension": ".py",
   "mimetype": "text/x-python",
   "name": "python",
   "nbconvert_exporter": "python",
   "pygments_lexer": "ipython3",
   "version": "3.6.5"
  }
 },
 "nbformat": 4,
 "nbformat_minor": 2
}
